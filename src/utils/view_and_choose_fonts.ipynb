{
 "cells": [
  {
   "cell_type": "code",
   "execution_count": 1,
   "metadata": {},
   "outputs": [],
   "source": [
    "import os\n",
    "from PIL import Image, ImageDraw, ImageFont\n",
    "import matplotlib.pyplot as plt\n",
    "import numpy as np\n",
    "import json"
   ]
  },
  {
   "cell_type": "code",
   "execution_count": 48,
   "metadata": {},
   "outputs": [],
   "source": [
    "string_to_output = \"c\""
   ]
  },
  {
   "cell_type": "code",
   "execution_count": 3,
   "metadata": {},
   "outputs": [],
   "source": [
    "set_of_appropriate_font_files = set([\".ttf\", \".otf\"])"
   ]
  },
  {
   "cell_type": "code",
   "execution_count": 33,
   "metadata": {},
   "outputs": [],
   "source": [
    "def gather_font_files(current_path: str, list_of_font_file_paths: list):\n",
    "    if os.path.isdir(current_path):\n",
    "        for item in os.listdir(current_path):\n",
    "            if \"MACOSX\" in item:\n",
    "                continue\n",
    "            else:\n",
    "                new_path = os.path.join(current_path, item)\n",
    "                gather_font_files(new_path, list_of_font_file_paths)\n",
    "    else:\n",
    "        ext = os.path.splitext(os.path.basename(current_path))[-1]\n",
    "        if ext in set_of_appropriate_font_files:\n",
    "            list_of_font_file_paths.append(current_path)"
   ]
  },
  {
   "cell_type": "code",
   "execution_count": 18,
   "metadata": {},
   "outputs": [],
   "source": [
    "def keep_track_of_which_fonts_are_wanted(font_dictionary_tracker: dict, font_path: str):\n",
    "    use_font = input(\"If this font is to be used type: \\'y\\' else type: \\'n\\'. To quit type \\'q\\' --: \")\n",
    "\n",
    "    if use_font == 'y':\n",
    "        weight = input(\"Less: \\'1\\', Normal: \\'2\\', More: \\'3\\' --: \")\n",
    "        valid_options = set([\"1\", \"2\", \"3\"])\n",
    "        while weight not in valid_options:\n",
    "            print(\"invalid options, try again.\")\n",
    "            weight = input(\"Less: \\'1\\', Normal: \\'2\\', More: \\'3\\' --: \")\n",
    "\n",
    "        weight_as_int = int(weight)\n",
    "\n",
    "        font_dictionary_tracker[font_path] = weight_as_int\n",
    "\n",
    "    return use_font"
   ]
  },
  {
   "cell_type": "code",
   "execution_count": 19,
   "metadata": {},
   "outputs": [],
   "source": [
    "def write_out_dictionary(dictionary: dict, output_path: str):\n",
    "    with open(output_path, 'w') as json_out:\n",
    "        json.dump(dictionary, json_out)"
   ]
  },
  {
   "cell_type": "code",
   "execution_count": 20,
   "metadata": {},
   "outputs": [],
   "source": [
    "def load_existing_dictionary(output_path_to_fonts_and_weights: str):\n",
    "    with open(output_path_to_fonts_and_weights, 'r') as json_in:\n",
    "        font_dictionary_tracker = json.load(json_in)\n",
    "    return font_dictionary_tracker"
   ]
  },
  {
   "cell_type": "code",
   "execution_count": 54,
   "metadata": {},
   "outputs": [],
   "source": [
    "def get_image_as_array(font_path: str, font_size: int, background_color: int, font_color: int, text_start_multiplier: float, image_multiplier: int):\n",
    "    font_object = ImageFont.truetype(font_path, font_size)\n",
    "    temp_image = Image.new('RGB', (1, 1), color=(background_color, background_color, background_color))\n",
    "    temp_draw = ImageDraw.Draw(temp_image)\n",
    "    text_bbox = temp_draw.textbbox((0, 0), string_to_output, font=font_object)\n",
    "    max_dim = max(text_bbox[2], text_bbox[3])\n",
    "    image_width = image_multiplier*(text_bbox[2] - text_bbox[0]) # max_dim*5 # \n",
    "    image_height = image_multiplier*(text_bbox[3] - text_bbox[1]) # image_width # \n",
    "    image = Image.new('RGB', (image_width+5, image_height+5), color=(background_color, background_color, background_color))\n",
    "    text_width = image_width\n",
    "    text_height = image_height\n",
    "    text_start_y = round(text_height*text_start_multiplier)\n",
    "    text_start_x = round(text_width*text_start_multiplier)\n",
    "    draw = ImageDraw.Draw(image)\n",
    "    draw.text((text_start_x, text_start_y), string_to_output, font=font_object, fill=(font_color, font_color, font_color))\n",
    "    image_as_array = np.array(image)\n",
    "    return image_as_array, text_bbox"
   ]
  },
  {
   "cell_type": "code",
   "execution_count": null,
   "metadata": {},
   "outputs": [],
   "source": [
    "def view_fonts_and_determine_use(font_paths: list, output_path_to_fonts_and_weights: str, use_existing_dict_in_output: bool):\n",
    "    if use_existing_dict_in_output:\n",
    "        font_dictionary_tracker = load_existing_dictionary(output_path_to_fonts_and_weights)\n",
    "    else:\n",
    "        font_dictionary_tracker = {}\n",
    "\n",
    "    background_color = 100\n",
    "    font_size = 240\n",
    "    font_color = 0\n",
    "\n",
    "    for index_in_font_paths, font_path in enumerate(font_paths):\n",
    "        if font_path not in font_dictionary_tracker:\n",
    "            print(index_in_font_paths)\n",
    "            image_as_array, text_bbox = get_image_as_array(font_path=font_path, font_size=font_size, background_color=background_color, font_color=font_color, text_start_multiplier=0.3, image_multiplier=10)\n",
    "            \n",
    "            image_height, image_width, _ = image_as_array.shape\n",
    "\n",
    "            top_of_text = 0\n",
    "            bottom_of_text = image_height-1\n",
    "            left_of_text = 0\n",
    "            right_of_text = image_width-1\n",
    "\n",
    "            height, width = image_as_array.shape[:2]\n",
    "\n",
    "            for i in range(height):\n",
    "                row = image_as_array[i, :, :]\n",
    "                if np.any(row == font_color):\n",
    "                    top_of_text = i\n",
    "                    break\n",
    "\n",
    "            for i in range((height-1), -1, -1):\n",
    "                row = image_as_array[i, :, :]\n",
    "                if np.any(row == font_color):\n",
    "                    bottom_of_text = i\n",
    "                    break\n",
    "\n",
    "            for i in range(width):\n",
    "                column = image_as_array[:, i, :]\n",
    "                if np.any(column == font_color):\n",
    "                    left_of_text = i\n",
    "                    break\n",
    "\n",
    "            for i in range((width-1), -1, -1):\n",
    "                column = image_as_array[:, i, :]\n",
    "                if np.any(column == font_color):\n",
    "                    right_of_text = i\n",
    "                    break\n",
    "\n",
    "            if top_of_text > 0:\n",
    "                top_of_text -= 1\n",
    "            if bottom_of_text < image_height-1:\n",
    "                bottom_of_text += 1\n",
    "            if left_of_text > 0:\n",
    "                left_of_text -= 1\n",
    "            if right_of_text < image_width-1:\n",
    "                right_of_text += 1\n",
    "\n",
    "            if not np.any(image_as_array != background_color):\n",
    "                print(font_path)\n",
    "                print(text_bbox)\n",
    "                print(\"Image width and height: \", image_width, image_height)\n",
    "                print(\"New image width and height: \", (right_of_text-left_of_text), (bottom_of_text-top_of_text))\n",
    "\n",
    "                image = Image.fromarray(image_as_array)\n",
    "                plt.imshow(image)\n",
    "                plt.axis(\"off\")\n",
    "                plt.show()\n",
    "\n",
    "                array_of_interest = image_as_array[top_of_text:bottom_of_text, left_of_text:right_of_text, :]\n",
    "                image = Image.fromarray(array_of_interest)\n",
    "\n",
    "                plt.imshow(image)\n",
    "                plt.axis(\"off\")\n",
    "                plt.show()\n",
    "                \n",
    "\n",
    "            \"\"\"result = keep_track_of_which_fonts_are_wanted(font_dictionary_tracker, font_path)\n",
    "\n",
    "            if index_in_font_paths % 10 == 0:\n",
    "                write_out_dictionary(font_dictionary_tracker, output_path_to_fonts_and_weights)\n",
    "\n",
    "            if result == \"q\":\n",
    "                break\"\"\""
   ]
  },
  {
   "cell_type": "code",
   "execution_count": 60,
   "metadata": {},
   "outputs": [
    {
     "name": "stdout",
     "output_type": "stream",
     "text": [
      "0\n",
      "1\n",
      "2\n",
      "3\n",
      "4\n",
      "5\n",
      "6\n",
      "7\n",
      "8\n",
      "9\n",
      "10\n",
      "11\n",
      "12\n",
      "13\n",
      "14\n",
      "15\n",
      "16\n",
      "17\n",
      "18\n",
      "19\n",
      "20\n",
      "21\n",
      "22\n",
      "23\n",
      "24\n",
      "25\n",
      "26\n",
      "27\n",
      "28\n",
      "29\n",
      "30\n",
      "31\n",
      "32\n",
      "33\n",
      "34\n",
      "35\n",
      "36\n",
      "37\n",
      "38\n",
      "39\n",
      "40\n",
      "41\n",
      "42\n",
      "43\n",
      "44\n",
      "45\n",
      "46\n",
      "47\n",
      "48\n",
      "49\n",
      "50\n",
      "51\n",
      "52\n",
      "53\n",
      "54\n",
      "55\n",
      "56\n",
      "57\n",
      "58\n",
      "59\n",
      "60\n",
      "61\n",
      "62\n",
      "63\n",
      "64\n",
      "65\n",
      "66\n",
      "67\n",
      "68\n",
      "69\n",
      "70\n",
      "71\n",
      "72\n",
      "73\n",
      "74\n",
      "75\n",
      "76\n",
      "77\n",
      "78\n",
      "79\n",
      "80\n",
      "81\n",
      "82\n",
      "83\n",
      "84\n",
      "85\n",
      "86\n",
      "87\n",
      "88\n",
      "89\n",
      "90\n",
      "91\n",
      "92\n",
      "93\n",
      "94\n",
      "95\n",
      "96\n",
      "97\n",
      "98\n",
      "99\n",
      "100\n",
      "101\n",
      "102\n",
      "103\n",
      "104\n",
      "105\n",
      "106\n",
      "107\n",
      "108\n",
      "109\n",
      "110\n",
      "111\n",
      "112\n",
      "113\n",
      "114\n",
      "115\n",
      "116\n",
      "117\n",
      "118\n",
      "119\n",
      "120\n",
      "121\n",
      "122\n",
      "123\n",
      "124\n",
      "125\n",
      "126\n",
      "127\n",
      "128\n",
      "129\n",
      "130\n",
      "131\n",
      "132\n",
      "133\n",
      "134\n",
      "135\n",
      "136\n",
      "137\n",
      "138\n",
      "139\n",
      "140\n",
      "141\n",
      "142\n",
      "143\n",
      "144\n",
      "145\n",
      "146\n",
      "147\n",
      "148\n",
      "149\n",
      "150\n",
      "151\n",
      "152\n",
      "153\n",
      "154\n",
      "155\n",
      "156\n",
      "157\n",
      "158\n",
      "159\n",
      "160\n",
      "161\n",
      "162\n",
      "163\n",
      "C:\\Users\\Jackson Roubidoux\\RLL\\repos\\data_generator\\handwriting_data_generator\\fonts\\feasibly-single-line-font\\FeasiblySingleLine-z8D90.ttf\n",
      "(0, 110, 73, 171)\n",
      "Image width and height:  735 615\n",
      "New image width and height:  734 614\n"
     ]
    },
    {
     "data": {
      "image/png": "[encoded data removed]",
      "text/plain": [
       "<Figure size 640x480 with 1 Axes>"
      ]
     },
     "metadata": {},
     "output_type": "display_data"
    },
    {
     "data": {
      "image/png": "[encoded data removed]",
      "text/plain": [
       "<Figure size 640x480 with 1 Axes>"
      ]
     },
     "metadata": {},
     "output_type": "display_data"
    },
    {
     "name": "stdout",
     "output_type": "stream",
     "text": [
      "C:\\Users\\Jackson Roubidoux\\RLL\\repos\\data_generator\\handwriting_data_generator\\fonts\\feasibly-single-line-font\\FeasiblySingleLine-z8D90.ttf\n",
      "(0, 110, 73, 171)\n",
      "20\n",
      "Image width and height:  735 615\n",
      "New image width and height:  734 614\n"
     ]
    },
    {
     "data": {
      "image/png": "[encoded data removed]",
      "text/plain": [
       "<Figure size 640x480 with 1 Axes>"
      ]
     },
     "metadata": {},
     "output_type": "display_data"
    },
    {
     "data": {
      "image/png": "[encoded data removed]",
      "text/plain": [
       "<Figure size 640x480 with 1 Axes>"
      ]
     },
     "metadata": {},
     "output_type": "display_data"
    },
    {
     "name": "stdout",
     "output_type": "stream",
     "text": [
      "C:\\Users\\Jackson Roubidoux\\RLL\\repos\\data_generator\\handwriting_data_generator\\fonts\\feasibly-single-line-font\\FeasiblySingleLine-z8D90.ttf\n",
      "(0, 110, 73, 171)\n",
      "40\n",
      "Image width and height:  1465 1225\n",
      "New image width and height:  734 614\n"
     ]
    },
    {
     "data": {
      "image/png": "[encoded data removed]",
      "text/plain": [
       "<Figure size 640x480 with 1 Axes>"
      ]
     },
     "metadata": {},
     "output_type": "display_data"
    },
    {
     "data": {
      "image/png": "[encoded data removed]",
      "text/plain": [
       "<Figure size 640x480 with 1 Axes>"
      ]
     },
     "metadata": {},
     "output_type": "display_data"
    },
    {
     "name": "stdout",
     "output_type": "stream",
     "text": [
      "C:\\Users\\Jackson Roubidoux\\RLL\\repos\\data_generator\\handwriting_data_generator\\fonts\\feasibly-single-line-font\\FeasiblySingleLine-z8D90.ttf\n",
      "(0, 110, 73, 171)\n",
      "80\n",
      "Image width and height:  2925 2445\n",
      "New image width and height:  734 614\n"
     ]
    },
    {
     "data": {
      "image/png": "[encoded data removed]",
      "text/plain": [
       "<Figure size 640x480 with 1 Axes>"
      ]
     },
     "metadata": {},
     "output_type": "display_data"
    },
    {
     "data": {
      "image/png": "[encoded data removed]",
      "text/plain": [
       "<Figure size 640x480 with 1 Axes>"
      ]
     },
     "metadata": {},
     "output_type": "display_data"
    },
    {
     "name": "stdout",
     "output_type": "stream",
     "text": [
      "C:\\Users\\Jackson Roubidoux\\RLL\\repos\\data_generator\\handwriting_data_generator\\fonts\\feasibly-single-line-font\\FeasiblySingleLine-z8D90.ttf\n",
      "(0, 110, 73, 171)\n",
      "160\n",
      "Image width and height:  5845 4885\n",
      "New image width and height:  734 614\n"
     ]
    },
    {
     "data": {
      "image/png": "[encoded data removed]",
      "text/plain": [
       "<Figure size 640x480 with 1 Axes>"
      ]
     },
     "metadata": {},
     "output_type": "display_data"
    },
    {
     "data": {
      "image/png": "[encoded data removed]",
      "text/plain": [
       "<Figure size 640x480 with 1 Axes>"
      ]
     },
     "metadata": {},
     "output_type": "display_data"
    },
    {
     "ename": "KeyboardInterrupt",
     "evalue": "",
     "output_type": "error",
     "traceback": [
      "\u001b[1;31m---------------------------------------------------------------------------\u001b[0m",
      "\u001b[1;31mKeyboardInterrupt\u001b[0m                         Traceback (most recent call last)",
      "Cell \u001b[1;32mIn[60], line 5\u001b[0m\n\u001b[0;32m      3\u001b[0m font_paths \u001b[38;5;241m=\u001b[39m []\n\u001b[0;32m      4\u001b[0m gather_font_files(path_to_root_directory_for_fonts, font_paths)\n\u001b[1;32m----> 5\u001b[0m \u001b[43mview_fonts_and_determine_use\u001b[49m\u001b[43m(\u001b[49m\u001b[43mfont_paths\u001b[49m\u001b[43m,\u001b[49m\u001b[43m \u001b[49m\u001b[43mpath_to_output_json_for_fonts_and_weights\u001b[49m\u001b[43m,\u001b[49m\u001b[43m \u001b[49m\u001b[38;5;28;43;01mFalse\u001b[39;49;00m\u001b[43m)\u001b[49m\n",
      "Cell \u001b[1;32mIn[59], line 80\u001b[0m, in \u001b[0;36mview_fonts_and_determine_use\u001b[1;34m(font_paths, output_path_to_fonts_and_weights, use_existing_dict_in_output)\u001b[0m\n\u001b[0;32m     77\u001b[0m     plt\u001b[38;5;241m.\u001b[39mshow()\n\u001b[0;32m     79\u001b[0m \u001b[38;5;28;01mwhile\u001b[39;00m \u001b[38;5;129;01mnot\u001b[39;00m np\u001b[38;5;241m.\u001b[39many(image_as_array \u001b[38;5;241m!=\u001b[39m background_color):\n\u001b[1;32m---> 80\u001b[0m     image_as_array, text_bbox \u001b[38;5;241m=\u001b[39m \u001b[43mget_image_as_array\u001b[49m\u001b[43m(\u001b[49m\u001b[43mfont_path\u001b[49m\u001b[38;5;241;43m=\u001b[39;49m\u001b[43mfont_path\u001b[49m\u001b[43m,\u001b[49m\u001b[43m \u001b[49m\u001b[43mfont_size\u001b[49m\u001b[38;5;241;43m=\u001b[39;49m\u001b[43mfont_size\u001b[49m\u001b[43m,\u001b[49m\u001b[43m \u001b[49m\u001b[43mbackground_color\u001b[49m\u001b[38;5;241;43m=\u001b[39;49m\u001b[43mbackground_color\u001b[49m\u001b[43m,\u001b[49m\u001b[43m \u001b[49m\u001b[43mfont_color\u001b[49m\u001b[38;5;241;43m=\u001b[39;49m\u001b[43mfont_color\u001b[49m\u001b[43m,\u001b[49m\u001b[43m \u001b[49m\u001b[43mtext_start_multiplier\u001b[49m\u001b[38;5;241;43m=\u001b[39;49m\u001b[43mtsm\u001b[49m\u001b[43m,\u001b[49m\u001b[43m \u001b[49m\u001b[43mimage_multiplier\u001b[49m\u001b[38;5;241;43m=\u001b[39;49m\u001b[43midm\u001b[49m\u001b[43m)\u001b[49m\n\u001b[0;32m     81\u001b[0m     idm \u001b[38;5;241m=\u001b[39m idm\u001b[38;5;241m*\u001b[39m\u001b[38;5;241m2\u001b[39m\n\u001b[0;32m     82\u001b[0m     image_height, image_width, _ \u001b[38;5;241m=\u001b[39m image_as_array\u001b[38;5;241m.\u001b[39mshape\n",
      "Cell \u001b[1;32mIn[54], line 16\u001b[0m, in \u001b[0;36mget_image_as_array\u001b[1;34m(font_path, font_size, background_color, font_color, text_start_multiplier, image_multiplier)\u001b[0m\n\u001b[0;32m     14\u001b[0m draw \u001b[38;5;241m=\u001b[39m ImageDraw\u001b[38;5;241m.\u001b[39mDraw(image)\n\u001b[0;32m     15\u001b[0m draw\u001b[38;5;241m.\u001b[39mtext((text_start_x, text_start_y), string_to_output, font\u001b[38;5;241m=\u001b[39mfont_object, fill\u001b[38;5;241m=\u001b[39m(font_color, font_color, font_color))\n\u001b[1;32m---> 16\u001b[0m image_as_array \u001b[38;5;241m=\u001b[39m \u001b[43mnp\u001b[49m\u001b[38;5;241;43m.\u001b[39;49m\u001b[43marray\u001b[49m\u001b[43m(\u001b[49m\u001b[43mimage\u001b[49m\u001b[43m)\u001b[49m\n\u001b[0;32m     17\u001b[0m \u001b[38;5;28;01mreturn\u001b[39;00m image_as_array, text_bbox\n",
      "File \u001b[1;32mc:\\Users\\Jackson Roubidoux\\AppData\\Local\\Programs\\Python\\Python310\\lib\\site-packages\\PIL\\Image.py:756\u001b[0m, in \u001b[0;36mImage.__array_interface__\u001b[1;34m(self)\u001b[0m\n\u001b[0;32m    754\u001b[0m     new[\u001b[38;5;124m\"\u001b[39m\u001b[38;5;124mdata\u001b[39m\u001b[38;5;124m\"\u001b[39m] \u001b[38;5;241m=\u001b[39m \u001b[38;5;28mself\u001b[39m\u001b[38;5;241m.\u001b[39mtobytes(\u001b[38;5;124m\"\u001b[39m\u001b[38;5;124mraw\u001b[39m\u001b[38;5;124m\"\u001b[39m, \u001b[38;5;124m\"\u001b[39m\u001b[38;5;124mL\u001b[39m\u001b[38;5;124m\"\u001b[39m)\n\u001b[0;32m    755\u001b[0m \u001b[38;5;28;01melse\u001b[39;00m:\n\u001b[1;32m--> 756\u001b[0m     new[\u001b[38;5;124m\"\u001b[39m\u001b[38;5;124mdata\u001b[39m\u001b[38;5;124m\"\u001b[39m] \u001b[38;5;241m=\u001b[39m \u001b[38;5;28;43mself\u001b[39;49m\u001b[38;5;241;43m.\u001b[39;49m\u001b[43mtobytes\u001b[49m\u001b[43m(\u001b[49m\u001b[43m)\u001b[49m\n\u001b[0;32m    757\u001b[0m new[\u001b[38;5;124m\"\u001b[39m\u001b[38;5;124mshape\u001b[39m\u001b[38;5;124m\"\u001b[39m], new[\u001b[38;5;124m\"\u001b[39m\u001b[38;5;124mtypestr\u001b[39m\u001b[38;5;124m\"\u001b[39m] \u001b[38;5;241m=\u001b[39m _conv_type_shape(\u001b[38;5;28mself\u001b[39m)\n\u001b[0;32m    758\u001b[0m \u001b[38;5;28;01mreturn\u001b[39;00m new\n",
      "File \u001b[1;32mc:\\Users\\Jackson Roubidoux\\AppData\\Local\\Programs\\Python\\Python310\\lib\\site-packages\\PIL\\Image.py:826\u001b[0m, in \u001b[0;36mImage.tobytes\u001b[1;34m(self, encoder_name, *args)\u001b[0m\n\u001b[0;32m    823\u001b[0m     msg \u001b[38;5;241m=\u001b[39m \u001b[38;5;124mf\u001b[39m\u001b[38;5;124m\"\u001b[39m\u001b[38;5;124mencoder error \u001b[39m\u001b[38;5;132;01m{\u001b[39;00merrcode\u001b[38;5;132;01m}\u001b[39;00m\u001b[38;5;124m in tobytes\u001b[39m\u001b[38;5;124m\"\u001b[39m\n\u001b[0;32m    824\u001b[0m     \u001b[38;5;28;01mraise\u001b[39;00m \u001b[38;5;167;01mRuntimeError\u001b[39;00m(msg)\n\u001b[1;32m--> 826\u001b[0m \u001b[38;5;28;01mreturn\u001b[39;00m \u001b[38;5;124;43mb\u001b[39;49m\u001b[38;5;124;43m\"\u001b[39;49m\u001b[38;5;124;43m\"\u001b[39;49m\u001b[38;5;241;43m.\u001b[39;49m\u001b[43mjoin\u001b[49m\u001b[43m(\u001b[49m\u001b[43moutput\u001b[49m\u001b[43m)\u001b[49m\n",
      "\u001b[1;31mKeyboardInterrupt\u001b[0m: "
     ]
    }
   ],
   "source": [
    "path_to_root_directory_for_fonts = r\"C:\\Users\\Jackson Roubidoux\\RLL\\repos\\data_generator\\handwriting_data_generator\\fonts\"\n",
    "path_to_output_json_for_fonts_and_weights = r\"C:\\Users\\Jackson Roubidoux\\RLL\\repos\\data_generator\\handwriting_data_generator\\src\\utils\\good_fonts_for_period.json\" #r\"C:\\Users\\Jackson Roubidoux\\RLL\\repos\\data_generator\\sandbox\\fonts_and_weights\\temp.json\"\n",
    "font_paths = []\n",
    "gather_font_files(path_to_root_directory_for_fonts, font_paths)\n",
    "view_fonts_and_determine_use(font_paths, path_to_output_json_for_fonts_and_weights, False)\n"
   ]
  }
 ],
 "metadata": {
  "kernelspec": {
   "display_name": "Python 3",
   "language": "python",
   "name": "python3"
  },
  "language_info": {
   "codemirror_mode": {
    "name": "ipython",
    "version": 3
   },
   "file_extension": ".py",
   "mimetype": "text/x-python",
   "name": "python",
   "nbconvert_exporter": "python",
   "pygments_lexer": "ipython3",
   "version": "3.10.8"
  }
 },
 "nbformat": 4,
 "nbformat_minor": 2
}
